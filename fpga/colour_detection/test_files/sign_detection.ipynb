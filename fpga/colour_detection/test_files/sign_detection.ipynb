{
 "cells": [
  {
   "cell_type": "code",
   "execution_count": null,
   "metadata": {},
   "outputs": [],
   "source": [
    "import cv2\n",
    "import urllib.request\n",
    "import numpy as np\n",
    "from IPython.display import display, clear_output\n",
    "from PIL import Image\n",
    "from io import BytesIO\n",
    "from math import sqrt\n",
    "import time"
   ]
  },
  {
   "cell_type": "code",
   "execution_count": null,
   "metadata": {},
   "outputs": [],
   "source": [
    "# when you type the url into the web browser, it shows a single image.\n",
    "# This code sends continous requests to the url , allowing it to continuously get frames\n",
    "\n",
    "class StreamCapture:\n",
    "    def __init__(self):\n",
    "        self.ip = input(\"ESP cam IP: \").strip()\n",
    "        self.res = input(\"(L)ow, (M)edium, or (H)igh Resolution: \").strip().upper()\n",
    "        self.route = \"\"\n",
    "\n",
    "    def process(self):\n",
    "        if(self.res == \"H\"):\n",
    "            self.route = \"cam-hi.jpg\"\n",
    "        elif(self.res == \"M\"):\n",
    "            self.route = \"cam-mid.jpg\"\n",
    "        else:\n",
    "            self.route = \"cam-lo.jpg\"\n",
    "\n",
    "        url = f'http://{self.ip}/{self.route}'\n",
    "\n",
    "        start_time = time.time()\n",
    "        frame_count = 0\n",
    "\n",
    "        # Read and display video frames\n",
    "        while True:\n",
    "            try:\n",
    "                # Read a frame from the video stream\n",
    "                img_resp=urllib.request.urlopen(url)\n",
    "                imgnp=cv2.imdecode(np.array(bytearray(img_resp.read()),dtype=np.uint8),  cv2.IMREAD_COLOR)\n",
    "                frame_count += 1                \n",
    "\n",
    "                current_time = time.time()\n",
    "                elapsed_time = current_time-start_time\n",
    "                fps = frame_count / elapsed_time if elapsed_time > 0 else 0\n",
    "\n",
    "                process_frame(imgnp, fps)\n",
    "\n",
    "            except Exception as e:\n",
    "                print(f\"ERROR: {e}\")\n",
    "                exit()\n",
    "            "
   ]
  },
  {
   "cell_type": "code",
   "execution_count": null,
   "metadata": {},
   "outputs": [],
   "source": [
    "def detect_color(frame, color_ranges, color_name):\n",
    "    # Convert frame to HSV color space\n",
    "    hsv = cv2.cvtColor(frame, cv2.COLOR_BGR2HSV)\n",
    "    \n",
    "    mask = None\n",
    "    for color_range in color_ranges:\n",
    "        # Create a mask for each color range\n",
    "        current_mask = cv2.inRange(hsv, color_range[0], color_range[1])\n",
    "        if mask is None:\n",
    "            mask = current_mask\n",
    "        else:\n",
    "            mask = cv2.bitwise_or(mask, current_mask)\n",
    "    \n",
    "    # Apply morphological operations to clean up the mask\n",
    "    kernel = np.ones((5, 5), np.uint8)\n",
    "    mask = cv2.morphologyEx(mask, cv2.MORPH_CLOSE, kernel)\n",
    "    mask = cv2.morphologyEx(mask, cv2.MORPH_OPEN, kernel)\n",
    "    \n",
    "    # Find contours in the mask\n",
    "    contours, _ = cv2.findContours(mask, cv2.RETR_TREE, cv2.CHAIN_APPROX_SIMPLE)\n",
    "    \n",
    "    return contours, mask, color_name"
   ]
  },
  {
   "cell_type": "code",
   "execution_count": null,
   "metadata": {},
   "outputs": [],
   "source": [
    "def calculate_average_color(contour, frame):\n",
    "    mask = np.zeros(frame.shape[:2], dtype=\"uint8\")\n",
    "    cv2.drawContours(mask, [contour], -1, 255, -1)\n",
    "    mean_val = cv2.mean(frame, mask=mask)\n",
    "    return mean_val[:3]  # Return BGR values"
   ]
  },
  {
   "cell_type": "code",
   "execution_count": null,
   "metadata": {},
   "outputs": [],
   "source": [
    "def process_frame(frame, fps):\n",
    "\n",
    "    red_ranges = [\n",
    "            (np.array([0, 120, 70]), np.array([10, 255, 255])),\n",
    "            (np.array([160, 120, 70]), np.array([180, 255, 255]))\n",
    "        ]\n",
    "    green_range = [\n",
    "        (np.array([35, 50, 100], dtype=np.uint8), np.array([85, 255, 255], dtype=np.uint8))]\n",
    "    \n",
    "    # Detect colors\n",
    "    red_contours, _, _ = detect_color(frame, red_ranges, \"Red\")\n",
    "    green_contours, _, _ = detect_color(frame, green_range, \"Green\")\n",
    "    \n",
    "    # Process contours\n",
    "    for contours, color_name in [(red_contours, \"Red\"), (green_contours, \"Green\")]:\n",
    "        for cnt in contours:\n",
    "            area = cv2.contourArea(cnt)\n",
    "            if area > 200:\n",
    "                x, y, w, h = cv2.boundingRect(cnt)\n",
    "                average_color = calculate_average_color(cnt, frame)\n",
    "                color_text = f\"R:{int(average_color[2])}, G:{int(average_color[1])}, B:{int(average_color[0])}\"\n",
    "                box_color = (0, 0, 0)\n",
    "                if(color_name == \"Red\"):\n",
    "                    box_color = (0, 0, 255)\n",
    "                else:\n",
    "                    box_color = (0, 255 ,0)\n",
    "                frame = cv2.rectangle(frame, (x, y), (x+w, y+h), box_color, 2)\n",
    "                cv2.putText(frame, f\"{color_name}: {color_text}\", (x, y-10), cv2.FONT_HERSHEY_SIMPLEX, 0.6, (255, 255, 255), 2)\n",
    "\n",
    "    # Display FPS on the frame\n",
    "    cv2.putText(frame, f\"FPS: {fps:.2f}\", (10, 30), cv2.FONT_HERSHEY_SIMPLEX, 1, (0, 255, 0), 2)\n",
    "\n",
    "    # Convert and display the frame\n",
    "    frame_rgb = cv2.cvtColor(frame, cv2.COLOR_BGR2RGB)\n",
    "    display_image = Image.fromarray(frame_rgb)\n",
    "    display(display_image)\n",
    "    clear_output(wait=True)"
   ]
  },
  {
   "cell_type": "code",
   "execution_count": null,
   "metadata": {},
   "outputs": [],
   "source": [
    "if __name__ == \"__main__\":\n",
    "    print(\"Hello World!\")\n",
    "    streamcap = StreamCapture()\n",
    "    streamcap.process()"
   ]
  }
 ],
 "metadata": {
  "kernelspec": {
   "display_name": "Python 3",
   "language": "python",
   "name": "python3"
  },
  "language_info": {
   "codemirror_mode": {
    "name": "ipython",
    "version": 3
   },
   "file_extension": ".py",
   "mimetype": "text/x-python",
   "name": "python",
   "nbconvert_exporter": "python",
   "pygments_lexer": "ipython3",
   "version": "3.9.0"
  }
 },
 "nbformat": 4,
 "nbformat_minor": 2
}
